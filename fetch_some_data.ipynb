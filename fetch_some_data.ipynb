{
 "cells": [
  {
   "cell_type": "markdown",
   "id": "7c4b29e7",
   "metadata": {},
   "source": [
    "NOTEBOOK TO FETCH SOME RANDOM TRAINING DATA"
   ]
  },
  {
   "cell_type": "code",
   "execution_count": 5,
   "id": "e1a988e7",
   "metadata": {},
   "outputs": [],
   "source": [
    "import pandas as pd\n",
    "import requests\n",
    "import gzip\n",
    "import xml.etree.ElementTree as ET\n",
    "from io import BytesIO\n",
    "from concurrent.futures import ThreadPoolExecutor, as_completed\n",
    "import random"
   ]
  },
  {
   "cell_type": "code",
   "execution_count": 6,
   "id": "7730a0d1",
   "metadata": {},
   "outputs": [],
   "source": [
    "def parse_articles_from_gz(number):\n",
    "    number_str = str(number).zfill(4)\n",
    "    url = f\"https://ftp.ncbi.nlm.nih.gov/pubmed/baseline/pubmed25n{number_str}.xml.gz\"\n",
    "    print(f\"Downloading {url} ...\")\n",
    "    articles = []\n",
    "    \n",
    "    try:\n",
    "        response = requests.get(url, stream=True, timeout=60)\n",
    "        response.raise_for_status()\n",
    "        with gzip.GzipFile(fileobj=BytesIO(response.content)) as f:\n",
    "            context = ET.iterparse(f, events=('end',))\n",
    "            for event, elem in context:\n",
    "                if elem.tag == 'PubmedArticle':\n",
    "                    pmid_elem = elem.find('.//PMID')\n",
    "                    title_elem = elem.find('.//ArticleTitle')\n",
    "                    abstract_elem = elem.find('.//Abstract/AbstractText')\n",
    "                    \n",
    "                    pmid = pmid_elem.text if pmid_elem is not None else None\n",
    "                    title = title_elem.text if title_elem is not None else None\n",
    "                    abstract = abstract_elem.text if abstract_elem is not None else None\n",
    "                    \n",
    "                    articles.append((pmid, title, abstract))\n",
    "                    \n",
    "                    elem.clear()\n",
    "    except Exception as e:\n",
    "        print(f\"Failed to process {url}: {e}\")\n",
    "    \n",
    "    return articles"
   ]
  },
  {
   "cell_type": "code",
   "execution_count": 7,
   "id": "11392805",
   "metadata": {},
   "outputs": [],
   "source": [
    "def collect_all_articles():\n",
    "    all_articles = []\n",
    "    numbers = random.sample(range(200, 1000), 20)\n",
    "\n",
    "    with ThreadPoolExecutor(max_workers=10) as executor:\n",
    "        futures = [executor.submit(parse_articles_from_gz, number) for number in numbers]\n",
    "        \n",
    "        for future in as_completed(futures):\n",
    "            articles = future.result()\n",
    "            all_articles.extend(articles)\n",
    "    \n",
    "    return all_articles\n"
   ]
  },
  {
   "cell_type": "code",
   "execution_count": null,
   "id": "bb910da0",
   "metadata": {},
   "outputs": [
    {
     "name": "stdout",
     "output_type": "stream",
     "text": [
      "Downloading https://ftp.ncbi.nlm.nih.gov/pubmed/baseline/pubmed25n0237.xml.gz ...\n",
      "Downloading https://ftp.ncbi.nlm.nih.gov/pubmed/baseline/pubmed25n0697.xml.gz ...\n",
      "Downloading https://ftp.ncbi.nlm.nih.gov/pubmed/baseline/pubmed25n0780.xml.gz ...\n",
      "Downloading https://ftp.ncbi.nlm.nih.gov/pubmed/baseline/pubmed25n0966.xml.gz ...\n",
      "Downloading https://ftp.ncbi.nlm.nih.gov/pubmed/baseline/pubmed25n0595.xml.gz ...\n",
      "Downloading https://ftp.ncbi.nlm.nih.gov/pubmed/baseline/pubmed25n0506.xml.gz ...\n",
      "Downloading https://ftp.ncbi.nlm.nih.gov/pubmed/baseline/pubmed25n0594.xml.gz ...\n",
      "Downloading https://ftp.ncbi.nlm.nih.gov/pubmed/baseline/pubmed25n0819.xml.gz ...\n",
      "Downloading https://ftp.ncbi.nlm.nih.gov/pubmed/baseline/pubmed25n0255.xml.gz ...\n",
      "Downloading https://ftp.ncbi.nlm.nih.gov/pubmed/baseline/pubmed25n0627.xml.gz ...\n",
      "Downloading https://ftp.ncbi.nlm.nih.gov/pubmed/baseline/pubmed25n0303.xml.gz ...\n",
      "Downloading https://ftp.ncbi.nlm.nih.gov/pubmed/baseline/pubmed25n0778.xml.gz ...\n",
      "Downloading https://ftp.ncbi.nlm.nih.gov/pubmed/baseline/pubmed25n0651.xml.gz ...\n",
      "Downloading https://ftp.ncbi.nlm.nih.gov/pubmed/baseline/pubmed25n0626.xml.gz ...\n",
      "Downloading https://ftp.ncbi.nlm.nih.gov/pubmed/baseline/pubmed25n0499.xml.gz ...\n",
      "Downloading https://ftp.ncbi.nlm.nih.gov/pubmed/baseline/pubmed25n0550.xml.gz ...\n",
      "Downloading https://ftp.ncbi.nlm.nih.gov/pubmed/baseline/pubmed25n0644.xml.gz ...\n",
      "Downloading https://ftp.ncbi.nlm.nih.gov/pubmed/baseline/pubmed25n0590.xml.gz ...\n",
      "Downloading https://ftp.ncbi.nlm.nih.gov/pubmed/baseline/pubmed25n0817.xml.gz ...\n",
      "Downloading https://ftp.ncbi.nlm.nih.gov/pubmed/baseline/pubmed25n0815.xml.gz ...\n",
      "Total articles collected: 600000\n"
     ]
    }
   ],
   "source": [
    "all_articles = collect_all_articles()\n",
    "\n",
    "df = pd.DataFrame(all_articles, columns=[\"PMID\", \"ArticleTitle\", \"Abstract\"])\n",
    "print(f\"Total articles collected: {len(df)}\")\n",
    "\n",
    "\n",
    "df.to_csv('random_articles.csv', index=False)"
   ]
  },
  {
   "cell_type": "code",
   "execution_count": 14,
   "id": "73f3be5d",
   "metadata": {},
   "outputs": [],
   "source": [
    "random_articles = pd.read_csv('random_articles.csv')"
   ]
  },
  {
   "cell_type": "code",
   "execution_count": null,
   "id": "53f25c48",
   "metadata": {},
   "outputs": [],
   "source": [
    "random_articles[random_articles['Abstract'].isnull() == False]"
   ]
  }
 ],
 "metadata": {
  "kernelspec": {
   "display_name": "DevWorkshop",
   "language": "python",
   "name": "python3"
  },
  "language_info": {
   "codemirror_mode": {
    "name": "ipython",
    "version": 3
   },
   "file_extension": ".py",
   "mimetype": "text/x-python",
   "name": "python",
   "nbconvert_exporter": "python",
   "pygments_lexer": "ipython3",
   "version": "3.12.3"
  }
 },
 "nbformat": 4,
 "nbformat_minor": 5
}
