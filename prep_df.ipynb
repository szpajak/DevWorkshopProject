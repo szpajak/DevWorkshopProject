{
 "cells": [
  {
   "cell_type": "code",
   "execution_count": 7,
   "id": "1eceb1a8",
   "metadata": {},
   "outputs": [
    {
     "name": "stdout",
     "output_type": "stream",
     "text": [
      "Requirement already satisfied: pandas in ./.conda/lib/python3.11/site-packages (2.2.3)\n",
      "Requirement already satisfied: numpy in ./.conda/lib/python3.11/site-packages (1.26.4)\n",
      "Requirement already satisfied: python-dateutil>=2.8.2 in ./.conda/lib/python3.11/site-packages (from pandas) (2.9.0.post0)\n",
      "Requirement already satisfied: pytz>=2020.1 in ./.conda/lib/python3.11/site-packages (from pandas) (2025.2)\n",
      "Requirement already satisfied: tzdata>=2022.7 in ./.conda/lib/python3.11/site-packages (from pandas) (2025.2)\n",
      "Requirement already satisfied: six>=1.5 in ./.conda/lib/python3.11/site-packages (from python-dateutil>=2.8.2->pandas) (1.17.0)\n"
     ]
    }
   ],
   "source": [
    "!pip install pandas numpy"
   ]
  },
  {
   "cell_type": "code",
   "execution_count": 8,
   "id": "e1a988e7",
   "metadata": {},
   "outputs": [],
   "source": [
    "import pandas as pd\n",
    "import numpy as np"
   ]
  },
  {
   "cell_type": "code",
   "execution_count": 22,
   "id": "344dcdce",
   "metadata": {},
   "outputs": [],
   "source": [
    "import io\n",
    "import pandas as pd\n",
    "\n",
    "training_data_paths = [\n",
    "    \"data/CLEF TAR Task 2/Training/DTA/qrels/full.train.dta.abs.2019.qrels\",\n",
    "    \"data/CLEF TAR Task 2/Training/Intervention/qrels/full.train.int.abs.2019.qrels\",\n",
    "]\n",
    "\n",
    "test_data_paths = [\n",
    "    \"data/CLEF TAR Task 2/Testing/DTA/qrels/full.test.dta.abs.2019.qrels\",\n",
    "    \"data/CLEF TAR Task 2/Testing/Intervention/qrels/full.test.intervention.abs.2019.qrels\",\n",
    "]\n",
    "\n",
    "def parse_qrels_file(file):\n",
    "    try:\n",
    "        qrels = pd.read_csv(\n",
    "            file,\n",
    "            sep=\"\\s+\",\n",
    "            header=None,\n",
    "            names=[\"topic_id\", \"idk\", \"PID\", \"relevance\"],\n",
    "        )\n",
    "\n",
    "        del qrels[\"idk\"]\n",
    "\n",
    "        return qrels\n",
    "    except Exception as e:\n",
    "        print(\"Could not pares qrel file\", e)\n",
    "        return None"
   ]
  },
  {
   "cell_type": "code",
   "execution_count": 11,
   "id": "bc9e08cf",
   "metadata": {},
   "outputs": [],
   "source": [
    "import requests\n",
    "import xml.etree.ElementTree as ET\n",
    "\n",
    "def fetch_articles(pids):\n",
    "    payload = {'db': 'pubmed', 'id': pids, 'rettype': 'xml', 'retmode': 'xml'} \n",
    "    r = requests.get('https://eutils.ncbi.nlm.nih.gov/entrez/eutils/efetch.fcgi?', params=payload) \n",
    "    xml_data = r.content.decode('utf-8')\n",
    "    \n",
    "    return xml_data\n",
    "\n",
    "def chunks(lst, n, start = 0):\n",
    "    \"\"\"Yield successive n-sized chunks from lst.\"\"\"\n",
    "    for i in range(start, len(lst), n):\n",
    "        yield lst[i:i + n]\n",
    "        \n",
    "def xml_res_to_list(xml):\n",
    "    articles = []\n",
    "    context = ET.fromstring(xml)\n",
    "    xml_articles = context.findall('PubmedArticle')\n",
    "    \n",
    "    for xml_article in xml_articles:\n",
    "        pmid_elem = xml_article.find('.//PMID')\n",
    "        title_elem = xml_article.find('.//ArticleTitle')\n",
    "        abstract_elem = xml_article.find('.//Abstract/AbstractText')\n",
    "        \n",
    "        pmid = pmid_elem.text if pmid_elem is not None else None\n",
    "        title = title_elem.text.strip() if title_elem is not None else None\n",
    "        abstract = abstract_elem.text.strip() if abstract_elem is not None else None\n",
    " \n",
    "        articles.append((pmid, title, abstract))\n",
    "            \n",
    "    return articles\n",
    "                "
   ]
  },
  {
   "cell_type": "code",
   "execution_count": null,
   "id": "3c0aab25",
   "metadata": {},
   "outputs": [],
   "source": [
    "\n"
   ]
  },
  {
   "cell_type": "code",
   "execution_count": 2,
   "id": "59a93867",
   "metadata": {},
   "outputs": [],
   "source": [
    "import concurrent.futures\n",
    "\n",
    "\n",
    "def write_chunk(pids, idx, total):\n",
    "    articles_xml = fetch_articles(pids)\n",
    "    articles = xml_res_to_list(articles_xml)\n",
    "\n",
    "    df = pd.DataFrame(articles, columns =['PID', 'title', 'abstract'])\n",
    "    df.to_csv(f'./data/articles/chunk_{idx}.csv', index=False)\n",
    "    \n",
    "    print(np.floor((idx +1 ) / total * 100), \"%\")\n",
    "    \n",
    "    return f'chunk_{idx}'\n",
    "\n",
    "chunks_written = 0\n",
    "\n",
    "\n",
    "def execute(chunks_written, pids_chunk, total_pids):\n",
    "    res = write_chunk(pids_chunk, chunks_written, len(total_pids))\n",
    "    \n",
    "    return res\n",
    "\n",
    "def fetch_articles(pids):\n",
    "    gen = chunks(pids, 300)\n",
    "    with concurrent.futures.ThreadPoolExecutor(max_workers=5) as executor: \n",
    "        for chunk in gen:\n",
    "            future = executor.submit(execute, chunks_written, chunk, len(pids))\n",
    "            concurrent.futures.as_completed(future)\n",
    "            chunks_written += 1"
   ]
  },
  {
   "cell_type": "code",
   "execution_count": 4,
   "id": "e616d209",
   "metadata": {},
   "outputs": [],
   "source": [
    "training_data_paths = [\n",
    "    \"data/DATA2019/Training/DTA\",\n",
    "    \"data/DATA2019/Training/Intervention\",\n",
    "]\n",
    "\n",
    "test_data_paths = [\n",
    "    \"data/DATA2019/Testing/DTA\",\n",
    "    \"data/DATA2019/Testing/Intervention\",\n",
    "]"
   ]
  },
  {
   "cell_type": "code",
   "execution_count": 20,
   "id": "e7201101",
   "metadata": {},
   "outputs": [],
   "source": [
    "import glob\n",
    "import os\n",
    "import pandas as pd \n",
    "\n",
    "articles = pd.concat(map(pd.read_csv, glob.glob(os.path.join('', \"data/articles/chunk*.csv\"))))"
   ]
  },
  {
   "cell_type": "code",
   "execution_count": null,
   "id": "27791474",
   "metadata": {},
   "outputs": [
    {
     "data": {
      "text/plain": [
       "array([ 7072537,  8748845,  3819738, ..., 12504236,  1872650, 18038549])"
      ]
     },
     "execution_count": 35,
     "metadata": {},
     "output_type": "execute_result"
    }
   ],
   "source": [
    "training_qrels = pd.concat([parse_qrels_file(p) for p in training_data_paths])\n",
    "test_qrels = pd.concat([parse_qrels_file(p) for p in test_data_paths])\n",
    "\n",
    "pids = pd.concat([training_qrels, test_qrels])['PID'].unique()\n",
    "fetch_articles(pids)\n",
    "\n",
    "pd.merge(left=training_qrels, right=articles, on=\"PID\").to_csv('data/train.csv', index=False)\n",
    "pd.merge(left=test_qrels, right=articles, on=\"PID\").to_csv('data/test.csv', index=False)"
   ]
  },
  {
   "cell_type": "code",
   "execution_count": 10,
   "id": "d656a993",
   "metadata": {},
   "outputs": [
    {
     "data": {
      "text/html": [
       "<div>\n",
       "<style scoped>\n",
       "    .dataframe tbody tr th:only-of-type {\n",
       "        vertical-align: middle;\n",
       "    }\n",
       "\n",
       "    .dataframe tbody tr th {\n",
       "        vertical-align: top;\n",
       "    }\n",
       "\n",
       "    .dataframe thead th {\n",
       "        text-align: right;\n",
       "    }\n",
       "</style>\n",
       "<table border=\"1\" class=\"dataframe\">\n",
       "  <thead>\n",
       "    <tr style=\"text-align: right;\">\n",
       "      <th></th>\n",
       "      <th>PID</th>\n",
       "      <th>title</th>\n",
       "      <th>abstract</th>\n",
       "    </tr>\n",
       "  </thead>\n",
       "  <tbody>\n",
       "    <tr>\n",
       "      <th>0</th>\n",
       "      <td>8811504</td>\n",
       "      <td>Somatostatin-like immunoreactivity, its molecu...</td>\n",
       "      <td>There is some evidence that Parkinson's diseas...</td>\n",
       "    </tr>\n",
       "    <tr>\n",
       "      <th>1</th>\n",
       "      <td>10064172</td>\n",
       "      <td>The effect of dehydroepiandrosterone sulfate a...</td>\n",
       "      <td>We measured cerebrospinal fluid (CSF) levels o...</td>\n",
       "    </tr>\n",
       "    <tr>\n",
       "      <th>2</th>\n",
       "      <td>3037978</td>\n",
       "      <td>Effects of phosphatidylserine on immunologic i...</td>\n",
       "      <td>NaN</td>\n",
       "    </tr>\n",
       "    <tr>\n",
       "      <th>3</th>\n",
       "      <td>10973954</td>\n",
       "      <td>SERPIN regulation of factor XIa. The novel obs...</td>\n",
       "      <td>In the present studies we have made the novel ...</td>\n",
       "    </tr>\n",
       "    <tr>\n",
       "      <th>4</th>\n",
       "      <td>19056308</td>\n",
       "      <td>Levels of the light subunit of neurofilament t...</td>\n",
       "      <td>Neurofilaments are major structural elements o...</td>\n",
       "    </tr>\n",
       "    <tr>\n",
       "      <th>...</th>\n",
       "      <td>...</td>\n",
       "      <td>...</td>\n",
       "      <td>...</td>\n",
       "    </tr>\n",
       "    <tr>\n",
       "      <th>295</th>\n",
       "      <td>13130173</td>\n",
       "      <td>[Markers of bone formation and resorption in p...</td>\n",
       "      <td>Biochemical bone markers are a valuable noninv...</td>\n",
       "    </tr>\n",
       "    <tr>\n",
       "      <th>296</th>\n",
       "      <td>12525884</td>\n",
       "      <td>Association of an interleukin-1beta gene polym...</td>\n",
       "      <td>Inflammation is thought to promote neuronal ce...</td>\n",
       "    </tr>\n",
       "    <tr>\n",
       "      <th>297</th>\n",
       "      <td>15218778</td>\n",
       "      <td>[Coexistence of Alzheimer's disease with pseud...</td>\n",
       "      <td>Alzheimer disease is a type of cerebral amyloi...</td>\n",
       "    </tr>\n",
       "    <tr>\n",
       "      <th>298</th>\n",
       "      <td>10201277</td>\n",
       "      <td>Recent advances in dementia research in Japan:...</td>\n",
       "      <td>In a previous article, recent reports by Japan...</td>\n",
       "    </tr>\n",
       "    <tr>\n",
       "      <th>299</th>\n",
       "      <td>19268974</td>\n",
       "      <td>Cerebral white matter lesions in patients with...</td>\n",
       "      <td>Brain images of patients with Alzheimer's dise...</td>\n",
       "    </tr>\n",
       "  </tbody>\n",
       "</table>\n",
       "<p>28498 rows × 3 columns</p>\n",
       "</div>"
      ],
      "text/plain": [
       "          PID                                              title  \\\n",
       "0     8811504  Somatostatin-like immunoreactivity, its molecu...   \n",
       "1    10064172  The effect of dehydroepiandrosterone sulfate a...   \n",
       "2     3037978  Effects of phosphatidylserine on immunologic i...   \n",
       "3    10973954  SERPIN regulation of factor XIa. The novel obs...   \n",
       "4    19056308  Levels of the light subunit of neurofilament t...   \n",
       "..        ...                                                ...   \n",
       "295  13130173  [Markers of bone formation and resorption in p...   \n",
       "296  12525884  Association of an interleukin-1beta gene polym...   \n",
       "297  15218778  [Coexistence of Alzheimer's disease with pseud...   \n",
       "298  10201277  Recent advances in dementia research in Japan:...   \n",
       "299  19268974  Cerebral white matter lesions in patients with...   \n",
       "\n",
       "                                              abstract  \n",
       "0    There is some evidence that Parkinson's diseas...  \n",
       "1    We measured cerebrospinal fluid (CSF) levels o...  \n",
       "2                                                  NaN  \n",
       "3    In the present studies we have made the novel ...  \n",
       "4    Neurofilaments are major structural elements o...  \n",
       "..                                                 ...  \n",
       "295  Biochemical bone markers are a valuable noninv...  \n",
       "296  Inflammation is thought to promote neuronal ce...  \n",
       "297  Alzheimer disease is a type of cerebral amyloi...  \n",
       "298  In a previous article, recent reports by Japan...  \n",
       "299  Brain images of patients with Alzheimer's dise...  \n",
       "\n",
       "[28498 rows x 3 columns]"
      ]
     },
     "execution_count": 10,
     "metadata": {},
     "output_type": "execute_result"
    }
   ],
   "source": [
    "articles"
   ]
  }
 ],
 "metadata": {
  "kernelspec": {
   "display_name": "Python 3",
   "language": "python",
   "name": "python3"
  },
  "language_info": {
   "codemirror_mode": {
    "name": "ipython",
    "version": 3
   },
   "file_extension": ".py",
   "mimetype": "text/x-python",
   "name": "python",
   "nbconvert_exporter": "python",
   "pygments_lexer": "ipython3",
   "version": "3.11.12"
  }
 },
 "nbformat": 4,
 "nbformat_minor": 5
}
