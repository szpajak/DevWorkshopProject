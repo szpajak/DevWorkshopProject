{
 "cells": [
  {
   "cell_type": "code",
   "execution_count": null,
   "id": "e1a988e7",
   "metadata": {
    "vscode": {
     "languageId": "plaintext"
    }
   },
   "outputs": [],
   "source": [
    "import pandas as pd"
   ]
  }
 ],
 "metadata": {
  "language_info": {
   "name": "python"
  }
 },
 "nbformat": 4,
 "nbformat_minor": 5
}
