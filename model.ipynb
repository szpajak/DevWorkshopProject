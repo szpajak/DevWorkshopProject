{
  "cells": [
    {
      "cell_type": "code",
      "execution_count": 6,
      "metadata": {
        "id": "D8os3Kg9CL0H"
      },
      "outputs": [],
      "source": [
        "import pandas as pd\n",
        "import numpy as np\n",
        "\n",
        "import torch\n",
        "import torch.nn as nn\n",
        "import torch.nn.functional as F\n",
        "from torch.utils.data import Dataset, DataLoader\n",
        "from transformers import BertTokenizer, BertModel\n",
        "from torch.optim import AdamW\n",
        "from tqdm import tqdm\n",
        "\n",
        "import random, os"
      ]
    },
    {
      "cell_type": "code",
      "execution_count": 4,
      "metadata": {
        "id": "R94GO7ckfB2l"
      },
      "outputs": [],
      "source": [
        "# DO PODMIANKI!\n",
        "df_train = pd.read_csv('data/train.csv')\n",
        "df_test = pd.read_csv('data/test.csv')\n",
        "\n",
        "X_train = df_train.drop('relevance', axis=1)\n",
        "y_train = df_train['relevance']\n",
        "\n",
        "X_test = df_test.drop('relevance', axis=1)\n",
        "y_test = df_test['relevance']"
      ]
    },
    {
      "cell_type": "code",
      "execution_count": 7,
      "metadata": {
        "id": "zXNDKll0hE3v"
      },
      "outputs": [],
      "source": [
        "def set_seed(seed: int = 42) -> None:\n",
        "    np.random.seed(seed)\n",
        "    random.seed(seed)\n",
        "    torch.manual_seed(seed)\n",
        "    torch.cuda.manual_seed(seed)\n",
        "    torch.backends.cudnn.deterministic = True\n",
        "    torch.backends.cudnn.benchmark = False\n",
        "    os.environ[\"PYTHONHASHSEED\"] = str(seed)"
      ]
    },
    {
      "cell_type": "code",
      "execution_count": 8,
      "metadata": {
        "id": "VBVrt4KubvqY"
      },
      "outputs": [],
      "source": [
        "class TextDataset(Dataset):\n",
        "    def __init__(self, X, y, tokenizer, text_cols, numerical_cols, max_length=512):\n",
        "        self.X = X\n",
        "        self.y = y\n",
        "        self.tokenizer = tokenizer\n",
        "        self.text_cols = text_cols\n",
        "        self.numerical_cols = numerical_cols\n",
        "        self.max_length = max_length\n",
        "\n",
        "    def __len__(self):\n",
        "        return len(self.X)\n",
        "\n",
        "    def __getitem__(self, idx):\n",
        "        # Concatenate the text columns together\n",
        "        text = \" \".join(str(self.X.iloc[idx][col]) for col in self.text_cols)\n",
        "\n",
        "        # Tokenize text\n",
        "        encoding = self.tokenizer(\n",
        "            text,\n",
        "            truncation=True,\n",
        "            padding=\"max_length\",\n",
        "            max_length=self.max_length,\n",
        "            return_tensors=\"pt\"\n",
        "        )\n",
        "\n",
        "        # num features\n",
        "        numerical_feats = torch.tensor(\n",
        "            self.X.iloc[idx][self.numerical_cols].values,\n",
        "            dtype=torch.float32\n",
        "        )\n",
        "\n",
        "        return {\n",
        "            'input_ids': encoding['input_ids'].squeeze(),\n",
        "            'attention_mask': encoding['attention_mask'].squeeze(),\n",
        "            'numerical_feats': numerical_feats,\n",
        "            'labels': torch.tensor(self.y[idx], dtype=torch.float32)\n",
        "        }\n"
      ]
    },
    {
      "cell_type": "code",
      "execution_count": 9,
      "metadata": {
        "id": "Hakc0Gl9bqN4"
      },
      "outputs": [],
      "source": [
        "class BERTClassifier(nn.Module):\n",
        "    def __init__(self, model_name='bert-base-uncased', num_numerical_feats=2, num_labels=1):\n",
        "        super().__init__()\n",
        "        self.bert = BertModel.from_pretrained(model_name)\n",
        "        self.dropout = nn.Dropout(0.3)\n",
        "\n",
        "        self.fc = nn.Linear(self.bert.config.hidden_size + num_numerical_feats, num_labels)\n",
        "\n",
        "    def forward(self, input_ids, attention_mask, numerical_feats):\n",
        "        outputs = self.bert(input_ids=input_ids, attention_mask=attention_mask)\n",
        "        pooled_output = outputs.pooler_output  # Shape: (batch_size, hidden_size)\n",
        "\n",
        "        pooled_output = self.dropout(pooled_output)\n",
        "\n",
        "        # Concatenate BERT output with numerical features\n",
        "        combined = torch.cat((pooled_output, numerical_feats), dim=1)\n",
        "\n",
        "        logits = self.fc(combined)\n",
        "\n",
        "        return logits\n"
      ]
    },
    {
      "cell_type": "code",
      "execution_count": 10,
      "metadata": {
        "id": "nvIXe0MCe3nY"
      },
      "outputs": [
        {
          "ename": "NameError",
          "evalue": "name 'BERTWithNumericalFeatures' is not defined",
          "output_type": "error",
          "traceback": [
            "\u001b[31m---------------------------------------------------------------------------\u001b[39m",
            "\u001b[31mNameError\u001b[39m                                 Traceback (most recent call last)",
            "\u001b[36mCell\u001b[39m\u001b[36m \u001b[39m\u001b[32mIn[10]\u001b[39m\u001b[32m, line 4\u001b[39m\n\u001b[32m      1\u001b[39m set_seed(\u001b[32m42\u001b[39m)\n\u001b[32m      3\u001b[39m tokenizer = BertTokenizer.from_pretrained(\u001b[33m'\u001b[39m\u001b[33mbert-base-uncased\u001b[39m\u001b[33m'\u001b[39m)\n\u001b[32m----> \u001b[39m\u001b[32m4\u001b[39m model = \u001b[43mBERTWithNumericalFeatures\u001b[49m(num_numerical_feats=\u001b[32m2\u001b[39m, num_labels=\u001b[32m1\u001b[39m)\n",
            "\u001b[31mNameError\u001b[39m: name 'BERTWithNumericalFeatures' is not defined"
          ]
        }
      ],
      "source": [
        "set_seed(42)\n",
        "\n",
        "tokenizer = BertTokenizer.from_pretrained('bert-base-uncased')\n",
        "model = BERTWithNumericalFeatures(num_numerical_feats=2, num_labels=1)"
      ]
    },
    {
      "cell_type": "code",
      "execution_count": 11,
      "metadata": {
        "id": "wd5FCHZGf-jG"
      },
      "outputs": [
        {
          "ename": "NameError",
          "evalue": "name 'model' is not defined",
          "output_type": "error",
          "traceback": [
            "\u001b[31m---------------------------------------------------------------------------\u001b[39m",
            "\u001b[31mNameError\u001b[39m                                 Traceback (most recent call last)",
            "\u001b[36mCell\u001b[39m\u001b[36m \u001b[39m\u001b[32mIn[11]\u001b[39m\u001b[32m, line 1\u001b[39m\n\u001b[32m----> \u001b[39m\u001b[32m1\u001b[39m optimizer = AdamW(\u001b[43mmodel\u001b[49m.parameters(), lr=\u001b[32m0.001\u001b[39m)\n\u001b[32m      2\u001b[39m criterion = nn.BCEWithLogitsLoss()  \u001b[38;5;66;03m# For binary classification\u001b[39;00m\n\u001b[32m      4\u001b[39m device = torch.device(\u001b[33m'\u001b[39m\u001b[33mcuda\u001b[39m\u001b[33m'\u001b[39m \u001b[38;5;28;01mif\u001b[39;00m torch.cuda.is_available() \u001b[38;5;28;01melse\u001b[39;00m \u001b[33m'\u001b[39m\u001b[33mcpu\u001b[39m\u001b[33m'\u001b[39m)\n",
            "\u001b[31mNameError\u001b[39m: name 'model' is not defined"
          ]
        }
      ],
      "source": [
        "optimizer = AdamW(model.parameters(), lr=0.001)\n",
        "criterion = nn.BCEWithLogitsLoss()  # For binary classification\n",
        "\n",
        "device = torch.device('cuda' if torch.cuda.is_available() else 'cpu')\n",
        "model = model.to(device)"
      ]
    },
    {
      "cell_type": "code",
      "execution_count": null,
      "metadata": {
        "id": "hd4qPkUWcX76"
      },
      "outputs": [],
      "source": [
        "set_seed(42)\n",
        "\n",
        "# DO PODMIANKI NAZWY KOLUMN!\n",
        "train_dataset = TextDataset(X_train, y_train, tokenizer, text_cols=[\"topic\", \"abstract\"], numerical_cols=[\"num_feature1\", \"num_feature2\"])\n",
        "test_dataset = TextDataset(X_test, y_test, tokenizer, text_cols=[\"topic\", \"abstract\"], numerical_cols=[\"num_feature1\", \"num_feature2\"])\n",
        "\n",
        "train_loader = DataLoader(train_dataset, batch_size=16, shuffle=True)\n",
        "test_loader = DataLoader(test_dataset, batch_size=16, shuffle=False)"
      ]
    },
    {
      "cell_type": "code",
      "execution_count": null,
      "metadata": {
        "id": "hbmL1vYjcifw"
      },
      "outputs": [],
      "source": [
        "set_seed(42)\n",
        "\n",
        "epochs = 20\n",
        "\n",
        "# Training loop\n",
        "model.train()\n",
        "\n",
        "for epoch in range(epochs):\n",
        "    total_loss = 0\n",
        "\n",
        "    for batch in tqdm(train_loader):\n",
        "        input_ids = batch['input_ids'].to(device)\n",
        "        attention_mask = batch['attention_mask'].to(device)\n",
        "        numerical_feats = batch['numerical_feats'].to(device)\n",
        "        labels = batch['labels'].to(device)\n",
        "\n",
        "        optimizer.zero_grad()\n",
        "\n",
        "        outputs = model(input_ids, attention_mask, numerical_feats)\n",
        "\n",
        "        loss = criterion(outputs.squeeze(), labels)\n",
        "\n",
        "        loss.backward()\n",
        "        optimizer.step()\n",
        "\n",
        "        total_loss += loss.item()\n",
        "\n",
        "    avg_loss = total_loss / len(train_loader)\n",
        "    print(f\"Epoch {epoch+1} | Loss: {avg_loss:.4f}\")"
      ]
    },
    {
      "cell_type": "code",
      "execution_count": null,
      "metadata": {
        "id": "LRJHiOnKhWqO"
      },
      "outputs": [],
      "source": [
        "def evaluate(model, val_loader, device):\n",
        "    model.eval()\n",
        "    all_preds, all_labels = [], []\n",
        "\n",
        "    with torch.no_grad():\n",
        "        for batch in tqdm(val_loader):\n",
        "            input_ids = batch['input_ids'].to(device)\n",
        "            attention_mask = batch['attention_mask'].to(device)\n",
        "            numerical_feats = batch['numerical_feats'].to(device)\n",
        "            labels = batch['labels'].to(device)\n",
        "\n",
        "            outputs = model(input_ids, attention_mask, numerical_feats)\n",
        "            probs = torch.sigmoid(outputs.squeeze())\n",
        "\n",
        "            all_preds.append(probs.cpu())\n",
        "            all_labels.append(labels.cpu())\n",
        "\n",
        "    all_preds = torch.cat(all_preds)\n",
        "    all_labels = torch.cat(all_labels)\n",
        "\n",
        "    return all_preds, all_labels"
      ]
    },
    {
      "cell_type": "code",
      "execution_count": null,
      "metadata": {
        "id": "pUnaKZIOhkC-"
      },
      "outputs": [],
      "source": [
        "preds, labels = evaluate(model, val_loader, device)"
      ]
    }
  ],
  "metadata": {
    "colab": {
      "provenance": []
    },
    "kernelspec": {
      "display_name": "Python 3",
      "language": "python",
      "name": "python3"
    },
    "language_info": {
      "codemirror_mode": {
        "name": "ipython",
        "version": 3
      },
      "file_extension": ".py",
      "mimetype": "text/x-python",
      "name": "python",
      "nbconvert_exporter": "python",
      "pygments_lexer": "ipython3",
      "version": "3.11.12"
    }
  },
  "nbformat": 4,
  "nbformat_minor": 0
}
